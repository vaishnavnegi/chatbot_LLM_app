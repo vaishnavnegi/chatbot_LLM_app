{
 "cells": [
  {
   "cell_type": "code",
   "execution_count": 1,
   "metadata": {},
   "outputs": [
    {
     "data": {
      "text/plain": [
       "True"
      ]
     },
     "execution_count": 1,
     "metadata": {},
     "output_type": "execute_result"
    }
   ],
   "source": [
    "from openai import OpenAI\n",
    "import os\n",
    "from dotenv import load_dotenv\n",
    "import json\n",
    "from sklearn.metrics.pairwise import cosine_similarity\n",
    "load_dotenv()"
   ]
  },
  {
   "cell_type": "markdown",
   "metadata": {},
   "source": [
    "# Get LLM response"
   ]
  },
  {
   "cell_type": "code",
   "execution_count": 27,
   "metadata": {},
   "outputs": [],
   "source": [
    "client = OpenAI(\n",
    "            api_key=os.getenv(\"RUNPOD_TOKEN\"),\n",
    "            base_url=os.getenv(\"RUNPOD_CHATBOT_URL\"),\n",
    "        )\n",
    "model_name = os.getenv(\"MODEL_NAME\")"
   ]
  },
  {
   "cell_type": "code",
   "execution_count": 11,
   "metadata": {},
   "outputs": [],
   "source": [
    "response = client.chat.completions.create(\n",
    "        model=model_name,\n",
    "        messages=[{'role':'user','content':\"Which is the closest earth like planet?\"}],\n",
    "        temperature=0.0,\n",
    "        top_p=0.8,\n",
    "        max_tokens=2000,\n",
    "    )"
   ]
  },
  {
   "cell_type": "code",
   "execution_count": 12,
   "metadata": {},
   "outputs": [
    {
     "data": {
      "text/plain": [
       "ChatCompletion(id='chatcmpl-e6bb7472c7be4184a8a19d41304f58cb', choices=[Choice(finish_reason='stop', index=0, logprobs=None, message=ChatCompletionMessage(content=\"The closest Earth-like planet to our solar system is Proxima b, which orbits Proxima Centauri, the closest star to the Sun. Proxima b is a terrestrial planet with a mass similar to that of Earth and orbits within the habitable zone of its star, where liquid water could potentially exist on its surface.\\n\\nProxima b was discovered in 2016 by the European Southern Observatory (ESO) using the radial velocity method. The planet's mass is estimated to be around 1.3 times that of Earth, and its surface temperature could be suitable for liquid water to exist.\\n\\nHowever, it's worth noting that Proxima b is a bit larger than Earth and has a more eccentric orbit, which could affect its climate and habitability. Additionally, the star Proxima Centauri is a red dwarf, which is a different type of star than the Sun, and it emits more ultraviolet and X-ray radiation, which could have an impact on the planet's atmosphere.\\n\\nOther notable Earth-like planets that are close to our solar system include:\\n\\n* TRAPPIST-1e, which orbits the ultracool dwarf star TRAPPIST-1 and is one of seven Earth-sized planets in the system.\\n* LHS 1140b, which orbits a small, cool star and is a super-Earth with a mass around 7 times that of Earth.\\n* Ross 128 b, which orbits a quiet red dwarf star and is a temperate exoplanet with a mass around 1.1 times that of Earth.\\n\\nThese planets are all located within a few dozen light-years of our solar system and are considered promising candidates for hosting life. However, more research is needed to determine their habitability and potential for supporting life.\", refusal=None, role='assistant', audio=None, function_call=None, tool_calls=[]), stop_reason=None)], created=1738974596, model='meta-llama/Llama-3.1-8B-Instruct', object='chat.completion', service_tier=None, system_fingerprint=None, usage=CompletionUsage(completion_tokens=356, prompt_tokens=43, total_tokens=399, completion_tokens_details=None, prompt_tokens_details=None), prompt_logprobs=None)"
      ]
     },
     "execution_count": 12,
     "metadata": {},
     "output_type": "execute_result"
    }
   ],
   "source": [
    "response"
   ]
  },
  {
   "cell_type": "code",
   "execution_count": 13,
   "metadata": {},
   "outputs": [
    {
     "data": {
      "text/plain": [
       "\"The closest Earth-like planet to our solar system is Proxima b, which orbits Proxima Centauri, the closest star to the Sun. Proxima b is a terrestrial planet with a mass similar to that of Earth and orbits within the habitable zone of its star, where liquid water could potentially exist on its surface.\\n\\nProxima b was discovered in 2016 by the European Southern Observatory (ESO) using the radial velocity method. The planet's mass is estimated to be around 1.3 times that of Earth, and its surface temperature could be suitable for liquid water to exist.\\n\\nHowever, it's worth noting that Proxima b is a bit larger than Earth and has a more eccentric orbit, which could affect its climate and habitability. Additionally, the star Proxima Centauri is a red dwarf, which is a different type of star than the Sun, and it emits more ultraviolet and X-ray radiation, which could have an impact on the planet's atmosphere.\\n\\nOther notable Earth-like planets that are close to our solar system include:\\n\\n* TRAPPIST-1e, which orbits the ultracool dwarf star TRAPPIST-1 and is one of seven Earth-sized planets in the system.\\n* LHS 1140b, which orbits a small, cool star and is a super-Earth with a mass around 7 times that of Earth.\\n* Ross 128 b, which orbits a quiet red dwarf star and is a temperate exoplanet with a mass around 1.1 times that of Earth.\\n\\nThese planets are all located within a few dozen light-years of our solar system and are considered promising candidates for hosting life. However, more research is needed to determine their habitability and potential for supporting life.\""
      ]
     },
     "execution_count": 13,
     "metadata": {},
     "output_type": "execute_result"
    }
   ],
   "source": [
    "response.choices[0].message.content"
   ]
  },
  {
   "cell_type": "code",
   "execution_count": 24,
   "metadata": {},
   "outputs": [],
   "source": [
    "\n",
    "def get_chatbot_response(client,model_name,messages,temperature=0):\n",
    "    input_messages = []\n",
    "    for message in messages:\n",
    "        input_messages.append({\"role\": message[\"role\"], \"content\": message[\"content\"]})\n",
    "\n",
    "    response = client.chat.completions.create(\n",
    "        model=model_name,\n",
    "        messages=input_messages,\n",
    "        temperature=temperature,\n",
    "        top_p=0.8,\n",
    "        max_tokens=2000,\n",
    "    ).choices[0].message.content\n",
    "    \n",
    "    return response\n"
   ]
  },
  {
   "cell_type": "code",
   "execution_count": 15,
   "metadata": {},
   "outputs": [
    {
     "name": "stdout",
     "output_type": "stream",
     "text": [
      "The capital of Taiwan is Taipei.\n"
     ]
    }
   ],
   "source": [
    "messages = [{'role':'user','content':\"What's the capital of Taiwan?\"}]\n",
    "response = get_chatbot_response(client,model_name,messages)\n",
    "print(response)"
   ]
  },
  {
   "cell_type": "markdown",
   "metadata": {},
   "source": [
    "# Prompt Engineering Experiments"
   ]
  },
  {
   "cell_type": "markdown",
   "metadata": {},
   "source": [
    "## How to get structured output?"
   ]
  },
  {
   "cell_type": "code",
   "execution_count": 17,
   "metadata": {},
   "outputs": [
    {
     "name": "stdout",
     "output_type": "stream",
     "text": [
      "[\n",
      "    {\n",
      "     \"country\": \"Albania\",\n",
      "     \"capital\": \"Tirana\"\n",
      "    }\n",
      "]\n"
     ]
    }
   ],
   "source": [
    "# Using system prompt to make LLMs/Chatbot behave a certain way. It can be used as a role.\n",
    "system_prompt = \"\"\"\n",
    "You are a helpful assistant that answers questions about capitals of countries.\n",
    "Your output should be in a structured JSON format exactly like the one below. You aren't allowed to write anything other than the JSON object:\n",
    "[\n",
    "    {\n",
    "     \"country\": the country that you will get the capital of\n",
    "     \"capital\": the capital of the country stated   \n",
    "    }\n",
    "]\n",
    "\"\"\"\n",
    "messages = [{\"role\":\"system\", \"content\":system_prompt}]\n",
    "messages.append({\"role\":\"user\", \"content\": \"What's the capital of Albania?\"})\n",
    "response = get_chatbot_response(client, model_name, messages)\n",
    "print(response)"
   ]
  },
  {
   "cell_type": "code",
   "execution_count": 18,
   "metadata": {},
   "outputs": [
    {
     "data": {
      "text/plain": [
       "str"
      ]
     },
     "execution_count": 18,
     "metadata": {},
     "output_type": "execute_result"
    }
   ],
   "source": [
    "type(response)\n",
    "# Since its a string, we can now cast it into a list or dictionary."
   ]
  },
  {
   "cell_type": "code",
   "execution_count": 20,
   "metadata": {},
   "outputs": [
    {
     "data": {
      "text/plain": [
       "[{'country': 'Albania', 'capital': 'Tirana'}]"
      ]
     },
     "execution_count": 20,
     "metadata": {},
     "output_type": "execute_result"
    }
   ],
   "source": [
    "json_response = json.loads(response)\n",
    "json_response"
   ]
  },
  {
   "cell_type": "code",
   "execution_count": null,
   "metadata": {},
   "outputs": [
    {
     "data": {
      "text/plain": [
       "list"
      ]
     },
     "execution_count": 21,
     "metadata": {},
     "output_type": "execute_result"
    }
   ],
   "source": [
    "type(json_response)"
   ]
  },
  {
   "cell_type": "code",
   "execution_count": 22,
   "metadata": {},
   "outputs": [
    {
     "data": {
      "text/plain": [
       "(dict, 'Tirana')"
      ]
     },
     "execution_count": 22,
     "metadata": {},
     "output_type": "execute_result"
    }
   ],
   "source": [
    "type(json_response[0]), json_response[0]['capital']"
   ]
  },
  {
   "cell_type": "markdown",
   "metadata": {},
   "source": [
    "## Structuring the Inputs"
   ]
  },
  {
   "cell_type": "code",
   "execution_count": 25,
   "metadata": {},
   "outputs": [],
   "source": [
    "user_input = \"\"\"\n",
    "Get me the capitals of the following countries:\n",
    "```\n",
    "1. Russia \n",
    "2. Saudi Arabia\n",
    "3. Colombia\n",
    "```\n",
    "\"\"\""
   ]
  },
  {
   "cell_type": "code",
   "execution_count": 26,
   "metadata": {},
   "outputs": [
    {
     "name": "stdout",
     "output_type": "stream",
     "text": [
      "[\n",
      "    {\n",
      "     \"country\": \"Russia\",\n",
      "     \"capital\": \"Moscow\"\n",
      "    },\n",
      "    {\n",
      "     \"country\": \"Saudi Arabia\",\n",
      "     \"capital\": \"Riyadh\"\n",
      "    },\n",
      "    {\n",
      "     \"country\": \"Colombia\",\n",
      "     \"capital\": \"Bogotá\"\n",
      "    }\n",
      "]\n"
     ]
    }
   ],
   "source": [
    "messages = [{\"role\":\"system\", \"content\":system_prompt}]\n",
    "messages.append({\"role\":\"user\", \"content\": user_input})\n",
    "response = get_chatbot_response(client, model_name, messages)\n",
    "print(response)"
   ]
  },
  {
   "cell_type": "code",
   "execution_count": 27,
   "metadata": {},
   "outputs": [
    {
     "data": {
      "text/plain": [
       "[{'country': 'Russia', 'capital': 'Moscow'},\n",
       " {'country': 'Saudi Arabia', 'capital': 'Riyadh'},\n",
       " {'country': 'Colombia', 'capital': 'Bogotá'}]"
      ]
     },
     "execution_count": 27,
     "metadata": {},
     "output_type": "execute_result"
    }
   ],
   "source": [
    "json_response = json.loads(response)\n",
    "json_response"
   ]
  },
  {
   "cell_type": "markdown",
   "metadata": {},
   "source": [
    "## Giving model the time to think i.e Chain of Thought"
   ]
  },
  {
   "cell_type": "code",
   "execution_count": null,
   "metadata": {},
   "outputs": [],
   "source": [
    "# Refer this paper: https://arxiv.org/pdf/2205.11916\n",
    "# Chain of thought increases accuracy and performance."
   ]
  },
  {
   "cell_type": "code",
   "execution_count": null,
   "metadata": {},
   "outputs": [
    {
     "name": "stdout",
     "output_type": "stream",
     "text": [
      "{\n",
      "  \"result\": 4\n",
      "}\n"
     ]
    }
   ],
   "source": [
    "# A simple example without CoT\n",
    "user_prompt = \"\"\"\n",
    "Calculate the result of this equation: 1+3\n",
    "Your output should be in a structured JSON format exactly like the one below. You aren't allowed to write anything other than the JSON object:\n",
    "{\n",
    " \"result\": The final number resulting from solving the equation above   \n",
    "}\n",
    "\"\"\"\n",
    "messages = [{\"role\":\"user\", \"content\":user_prompt}]\n",
    "response = get_chatbot_response(client, model_name, messages)\n",
    "print(response)"
   ]
  },
  {
   "cell_type": "code",
   "execution_count": null,
   "metadata": {},
   "outputs": [
    {
     "data": {
      "text/plain": [
       "-15951.475394079202"
      ]
     },
     "execution_count": 30,
     "metadata": {},
     "output_type": "execute_result"
    }
   ],
   "source": [
    "# Lets try a problem that is a little more complicated...\n",
    "678/27 + 3876 - 2672*8 +97837/578*9"
   ]
  },
  {
   "cell_type": "code",
   "execution_count": 32,
   "metadata": {},
   "outputs": [
    {
     "name": "stdout",
     "output_type": "stream",
     "text": [
      "{\n",
      "  \"result\": 0.5\n",
      "}\n"
     ]
    }
   ],
   "source": [
    "user_prompt = \"\"\"\n",
    "Calculate the result of this equation: 678/27+3876-2672*8+97837/578*9\n",
    "Your output should be in a structured JSON format exactly like the one below. You aren't allowed to write anything other than the JSON object:\n",
    "{\n",
    " \"result\": The final number resulting from solving the equation above   \n",
    "}\n",
    "\"\"\"\n",
    "messages = [{\"role\":\"user\", \"content\":user_prompt}]\n",
    "response = get_chatbot_response(client, model_name, messages)\n",
    "print(response)"
   ]
  },
  {
   "cell_type": "code",
   "execution_count": null,
   "metadata": {},
   "outputs": [
    {
     "name": "stdout",
     "output_type": "stream",
     "text": [
      "{\n",
      "  \"steps\": \"First, we need to follow the PEMDAS rules: Parentheses, Exponents, Multiplication and Division (from left to right), Addition and Subtraction (from left to right). \n",
      "  1. Divide 678 by 27: 678 / 27 = 25.11\n",
      "  2. Multiply 2672 by 8: 2672 * 8 = 21376\n",
      "  3. Divide 97837 by 578: 97837 / 578 = 169.5\n",
      "  4. Multiply 169.5 by 9: 169.5 * 9 = 1524.5\n",
      "  5. Add 25.11 and 3876: 25.11 + 3876 = 3901.11\n",
      "  6. Subtract 21376 from 3901.11: 3901.11 - 21376 = -17474.89\n",
      "  7. Subtract 1524.5 from -17474.89: -17474.89 - 1524.5 = -19000.39\",\n",
      "  \"result\": -19000.39\n",
      "}\n"
     ]
    }
   ],
   "source": [
    "# So the model isn't able to solve this equation as of now and the margin of error is huge.\n",
    "# Let's try adding the steps to the answering process.\n",
    "user_prompt = \"\"\"\n",
    "Calculate the result of this equation: 678/27+3876-2672*8+97837/578*9\n",
    "Your output should be in a structured JSON format exactly like the one below. You aren't allowed to write anything other than the JSON object:\n",
    "{\n",
    " steps: This is where you solve the equation bit by bit following the PEMDAS rules. Show your strategy and calculate each step leading to the final answer. Feel free to write in free text.\n",
    " result: The final number resulting from solving the equation above   \n",
    "}\n",
    "\"\"\"\n",
    "messages = [{\"role\":\"user\", \"content\":user_prompt}]\n",
    "response = get_chatbot_response(client, model_name, messages)\n",
    "print(response)\n",
    "\n",
    "# Margin of error improves significantly, which can be improved further by manipulatin the model to think and rationalize in better ways and guiding its thought process."
   ]
  },
  {
   "cell_type": "markdown",
   "metadata": {},
   "source": [
    "# Retrieval Augmented Generation - RAGs"
   ]
  },
  {
   "cell_type": "code",
   "execution_count": null,
   "metadata": {},
   "outputs": [],
   "source": [
    "\"\"\"\n",
    "RAG enhances LLMs by integrating external data sources, allowing the models to generate more accurate and reliable text. \n",
    "The working principle of RAG involves two main components: a retriever and a generator.\n",
    "\n",
    "The retriever component acts as a search engine, sifting through vast amounts of external data to find information relevant to a user’s query. \n",
    "It retrieves the most pertinent documents or text passages that can serve as a factual foundation for the generative component.\n",
    "The generator component then leverages the retrieved information alongside its own internal knowledge to craft a response. \n",
    "The retrieved text provides context and ensures the generated response is grounded in factual accuracy.\n",
    "\n",
    "RAG addresses several challenges faced by traditional LLMs, such as the lack of provenance and the issue of hallucination, \n",
    "by providing a clear audit trail and ensuring more factual consistency.\n",
    "This makes RAG particularly useful for applications where real-time, accurate, and traceable data is crucial, \n",
    "such as in enterprise use-cases, customer service, and legal documentation.\n",
    "\n",
    "In terms of use cases, RAG can be applied in various scenarios, including creating customer service chatbots that can refer to manuals or FAQs, \n",
    "generating informative product descriptions, and creating social media marketing posts that utilize industry trends or customer sentiment analysis.\n",
    "RAG can be implemented in two main types: simple (or naive) and complex. Simple RAG systems handle straightforward queries needing direct answers, \n",
    "while complex RAG systems are designed for intricate queries that require piecing together information from multiple sources.\n",
    "\"\"\""
   ]
  },
  {
   "cell_type": "code",
   "execution_count": 35,
   "metadata": {},
   "outputs": [
    {
     "name": "stdout",
     "output_type": "stream",
     "text": [
      "Since I'm an AI trained until December 2023, I don't have information on the iPhone 16 as it has not been officially announced by Apple yet. However, I can provide you with some general information on the latest iPhone models and their features.\n",
      "\n",
      "The latest iPhone models available in the market are the iPhone 14 series, which includes the iPhone 14, iPhone 14 Plus, iPhone 14 Pro, and iPhone 14 Pro Max. These models come with various features such as:\n",
      "\n",
      "1. Improved cameras with a new 48MP main camera and a 12MP front camera.\n",
      "2. A faster A16 Bionic chip for enhanced performance.\n",
      "3. Longer battery life and faster charging capabilities.\n",
      "4. A new 6.7-inch display on the iPhone 14 Pro and iPhone 14 Pro Max.\n",
      "5. A 120Hz refresh rate for smoother visuals.\n",
      "6. Improved water resistance and durability.\n",
      "\n",
      "As for the iPhone 16, it's likely to be announced in the future, and I'll be happy to provide you with more information once it's officially released.\n",
      "\n",
      "However, based on rumors and leaks, here are some potential features that might be included in the iPhone 16:\n",
      "\n",
      "1. Improved cameras with a new periscope lens for enhanced zoom capabilities.\n",
      "2. A faster A17 Bionic chip for even better performance.\n",
      "3. A new design with a smaller notch or no notch at all.\n",
      "4. Enhanced augmented reality (AR) capabilities.\n",
      "5. Improved battery life and faster charging capabilities.\n",
      "\n",
      "Please note that these are just rumors and speculations, and the actual features of the iPhone 16 will be announced by Apple in the future.\n"
     ]
    }
   ],
   "source": [
    "# Let's try something: Since Iphone 16 was launcehd after the llama 3.1 model was trained.....\n",
    "user_prompt = \"\"\"\n",
    "What's new in the iphone 16?\n",
    "\"\"\"\n",
    "messages = [{\"role\":\"user\", \"content\":user_prompt}]\n",
    "response = get_chatbot_response(client, model_name, messages)\n",
    "print(response)"
   ]
  },
  {
   "cell_type": "code",
   "execution_count": 2,
   "metadata": {},
   "outputs": [],
   "source": [
    "# Let's save a basic Iphone 16 description:\n",
    "iphone_16 = \"\"\"\n",
    "The iPhone 16 introduces several exciting updates, making it one of Apple's most advanced smartphones to date. It features a larger 6.1-inch display for the base model and a 6.7-inch screen for the iPhone 16 Plus, with thinner bezels and a more durable Ceramic Shield. The iPhone 16 Pro and Pro Max boast even larger displays, measuring 6.3 and 6.9 inches respectively, offering the thinnest bezels seen on any Apple product so far.\n",
    "\n",
    "Powered by the new A18 chip (A18 Pro for the Pro models), these phones deliver significant performance improvements, with enhanced neural engine capabilities, faster GPU for gaming, and machine learning tasks. The camera systems are also upgraded, with the base iPhone 16 sporting a dual-camera setup with a 48MP main sensor. The Pro models offer a 48MP Ultra Wide and 5x telephoto camera, enhanced by Apple’s \"Camera Control\" button for more flexible photography options.\n",
    "\n",
    "Apple also introduced advanced audio features like \"Audio Mix,\" which uses machine learning to separate background sounds from speech, allowing for more refined audio capture during video recording. Battery life has been extended, especially in the iPhone 16 Pro Max, which is claimed to have the longest-lasting battery of any iPhone.\n",
    "\n",
    "Additionally, Apple has switched to USB-C for faster charging and data transfer, and the Pro models now support up to 2x faster video encoding. The starting prices remain consistent with previous generations, with the iPhone 16 starting at $799, while the Pro models start at $999\n",
    "\"\"\""
   ]
  },
  {
   "cell_type": "code",
   "execution_count": null,
   "metadata": {},
   "outputs": [
    {
     "name": "stdout",
     "output_type": "stream",
     "text": [
      "I'm assuming you're referring to the iPhone 16, which is a hypothetical device as Apple has not officially announced any iPhone model by this name. However, based on rumors and leaks, here are some potential features that might be included in the iPhone 16:\n",
      "\n",
      "1. **Improved Cameras**: The iPhone 16 might feature a quad-camera setup with a 48MP primary sensor, a 12MP front camera, and enhanced features like 8K video recording, improved low-light performance, and advanced portrait mode capabilities.\n",
      "2. **Faster Processor**: The iPhone 16 could be powered by Apple's A17 Bionic chip, which would provide a significant boost in performance and efficiency.\n",
      "3. **Longer Battery Life**: The iPhone 16 might feature a larger battery, which would provide all-day battery life and potentially even two-day battery life.\n",
      "4. **Enhanced Display**: The iPhone 16 could feature a higher refresh rate display (up to 120Hz), improved color accuracy, and a higher screen resolution.\n",
      "5. **New Design**: The iPhone 16 might feature a new design language, with a smaller notch, a more seamless glass design, and a more durable build.\n",
      "6. **5G and Wi-Fi 7**: The iPhone 16 could support the latest 5G and Wi-Fi 7 standards, providing faster data speeds and improved connectivity.\n",
      "7. **Enhanced Biometric Security**: The iPhone 16 might feature an improved Face ID system, with faster recognition times and improved security features.\n",
      "8. **Water Resistance**: The iPhone 16 could have improved water resistance, with a higher IP rating (e.g., IP69K) to protect against water and dust.\n",
      "9. **Wireless Charging**: The iPhone 16 might support faster wireless charging (up to 15W) and improved reverse wireless charging capabilities.\n",
      "10. **New Colors**: The iPhone 16 could be available in new colors, such as a new shade of blue, green, or purple.\n",
      "\n",
      "Please note that these features are speculative and based on rumors and leaks. Apple has not officially announced any details about the iPhone 16.\n"
     ]
    }
   ],
   "source": [
    "user_prompt = \"\"\"\n",
    "{iphone_16}\n",
    "What's new in the iphone 16?\n",
    "\"\"\"\n",
    "messages = [{\"role\":\"user\", \"content\":user_prompt}]\n",
    "response = get_chatbot_response(client, model_name, messages)\n",
    "print(response)\n",
    "\n",
    "# Providing context at the beginning of the prompt improves our answer a lot, \n",
    "# but we can't put information like this in all prompts as we have a token limit and the data we might need to put in exceeds this limit.\n",
    "# And we also need to put the most relevant part of the information in the system for it to work efficiently.\n",
    "# We use embeddings to determine the relevance and we will use the serverless endpoint for embeddings in the Runpod itself"
   ]
  },
  {
   "cell_type": "markdown",
   "metadata": {},
   "source": [
    "## Automatically extracting context data from a database."
   ]
  },
  {
   "cell_type": "code",
   "execution_count": 3,
   "metadata": {},
   "outputs": [],
   "source": [
    "samsung_s23 = \"\"\"\n",
    "The Samsung Galaxy S23 brings some incremental but notable upgrades to its predecessor, the Galaxy S22. It features the Snapdragon 8 Gen 2 processor, a powerful chip optimized for the S23 series, delivering enhanced performance, especially for gaming and multitasking. This chip ensures top-tier speed and efficiency across all models, from the base S23 to the larger S23+ and S23 Ultra​.\n",
    "\n",
    "In terms of design, the S23's camera module has been streamlined by removing the raised metal contour around the cameras, creating a cleaner, sleeker look. It also sports the same 6.1-inch 120Hz AMOLED display, protected by tougher Gorilla Glass Victus 2, making it more resistant to scratches and drops​.\n",
    "\n",
    "The S23 Ultra stands out with its 200MP main camera, offering impressive photo clarity, especially in low-light conditions. The selfie camera across the series has been updated to a 12MP sensor, resulting in sharper selfies. The Ultra model also includes productivity tools such as the S-Pen, which remains an essential feature for note-taking and creative tasks​.\n",
    "\n",
    "Battery life is solid, with the S23 Ultra featuring a 5000mAh battery that lasts comfortably through a day of heavy use. However, charging speeds still lag behind some competitors, with 45W wired charging, which is slower than other brands offering up to 125W charging​.\n",
    "\n",
    "Overall, the Galaxy S23 series enhances performance, durability, and camera quality, making it a strong contender for users seeking a high-performance flagship.\n",
    "\"\"\""
   ]
  },
  {
   "cell_type": "code",
   "execution_count": 4,
   "metadata": {},
   "outputs": [],
   "source": [
    "data = [iphone_16, samsung_s23]"
   ]
  },
  {
   "cell_type": "code",
   "execution_count": 5,
   "metadata": {},
   "outputs": [],
   "source": [
    "user_prompt = \"\"\"\n",
    "What's new in the iphone 16?\n",
    "\"\"\""
   ]
  },
  {
   "cell_type": "code",
   "execution_count": 6,
   "metadata": {},
   "outputs": [],
   "source": [
    "embedding_client = OpenAI(\n",
    "    api_key=os.getenv('RUNPOD_TOKEN'),\n",
    "    base_url=os.getenv('RUNPOD_EMBEDDING_URL'),\n",
    "    \n",
    ")"
   ]
  },
  {
   "cell_type": "code",
   "execution_count": 7,
   "metadata": {},
   "outputs": [],
   "source": [
    "output = embedding_client.embeddings.create(input=user_prompt, model='BAAI/bge-small-en-v1.5')"
   ]
  },
  {
   "cell_type": "code",
   "execution_count": 8,
   "metadata": {},
   "outputs": [
    {
     "data": {
      "text/plain": [
       "CreateEmbeddingResponse(data=[Embedding(embedding=[-0.052291225641965866, -0.029946113005280495, 0.060258541256189346, -0.006330351810902357, -0.031151894479990005, -0.04475127533078194, 0.018254613503813744, 0.03483029082417488, -0.017460934817790985, 0.046674422919750214, 0.05262701213359833, 0.016484098508954048, -0.06703533977270126, -0.00667377095669508, 0.09560777246952057, 0.022329850122332573, 0.1178307831287384, -0.15360738337039948, -0.07637632638216019, 0.01759830303490162, -0.040080782026052475, -0.022390902042388916, -0.03943973407149315, -0.032449252903461456, 0.03171662986278534, 0.05995327979326248, 0.0024668911937624216, -0.009959143586456776, -0.024039311334490776, -0.1387106478214264, -0.003941684029996395, 0.0004314197867643088, 0.019078819081187248, 0.02228406071662903, -0.0026862977538257837, -0.03663133084774017, -0.00576180312782526, 0.03138083964586258, -0.01083676889538765, 0.059678543359041214, 0.03101452812552452, 0.09286042302846909, -0.10281194001436234, -0.022558795288205147, 0.044079702347517014, 0.005620619747787714, 0.033670298755168915, -0.02295563369989395, 0.008600731380283833, -0.047956518828868866, 0.05076492205262184, -0.00105601258110255, 0.01723198965191841, -0.06318904459476471, -0.010455192998051643, -0.015224897302687168, 0.004231682047247887, 0.029167698696255684, 0.06813427805900574, 0.03754711523652077, 0.09133411943912506, -0.024558255448937416, -0.14103062450885773, 0.0901741310954094, 0.004823125433176756, 0.03632606938481331, -0.046857576817274094, -0.11911287903785706, 0.019979339092969894, -0.07350686937570572, 0.0029820194467902184, 0.03440292552113533, 0.048994407057762146, 0.058884866535663605, -0.015385159291327, -0.0012792347697541118, 0.07912367582321167, 0.02658824250102043, -0.04392707347869873, 0.037638694047927856, 0.07051531225442886, 0.008226786740124226, 0.01654515229165554, 0.030800845474004745, 0.03086189739406109, -0.04490390792489052, -0.030434532091021538, 0.029335591942071915, -0.00217689317651093, -0.08284786343574524, -0.00020557426614686847, -0.019857235252857208, 0.058701708912849426, 0.041393402963876724, -0.10903926193714142, 0.0580606609582901, 0.023093001917004585, -0.06132695451378822, -0.053603850305080414, 0.3069705665111542, -0.021078279241919518, 0.035654496401548386, 0.06727954745292664, -0.04426285997033119, 0.03797448053956032, -0.049879662692546844, -0.023856155574321747, -0.038615528494119644, -0.04933019354939461, 0.06132695451378822, -0.0012172285933047533, -0.045453377068042755, 0.055496469140052795, 0.012019655667245388, -0.012019655667245388, -0.043102867901325226, 0.0520164892077446, 0.05140597000718117, 0.0494217723608017, 0.043896544724702835, 0.01148544903844595, 0.018956713378429413, -0.007486528251320124, 0.019872497767210007, 2.2954203814151697e-05, -0.028923489153385162, 0.002894256729632616, 0.03534923493862152, -0.03525765612721443, 0.027000343427062035, 0.010035458952188492, 0.005429831799119711, -0.08211523294448853, 0.054031215608119965, 0.03708922490477562, -0.028312966227531433, 0.0028274809010326862, -0.010378877632319927, 0.01871250569820404, 0.006055617239326239, -0.08266470581293106, -0.03186925873160362, 0.08724362403154373, -0.07826894521713257, 0.009340989403426647, 0.0329071469604969, -0.00014154097880236804, 0.051436495035886765, 0.001270649372600019, 0.04188182204961777, -0.034280821681022644, 0.08180997520685196, 0.04237024113535881, 0.02425299398601055, 0.02530614472925663, 0.018910925835371017, -0.024817727506160736, -0.030297163873910904, -0.02271142601966858, 0.08101629465818405, -0.006425746250897646, 0.01915513351559639, -0.06807322800159454, -0.020910385996103287, -0.013484909199178219, -0.169969379901886, 0.01204255037009716, 0.051253337413072586, -0.04136287793517113, 0.0003839612181764096, -0.008638888597488403, -0.00448733801022172, 0.029595063999295235, -0.028709806501865387, 0.06447114050388336, -0.02877085842192173, 0.0182088240981102, 0.0945088341832161, -0.008341259323060513, -0.007742184679955244, -0.01967407763004303, -0.02261984720826149, -0.10616981238126755, 0.052871223539114, 0.05989222601056099, -0.02339826337993145, 0.01758303865790367, -0.013187278993427753, 0.08773203939199448, -0.016056733205914497, 0.03281556814908981, 0.039561837911605835, -0.06074695661664009, 0.06630270928144455, -0.03931763023138046, -0.02000986412167549, 0.006566929165273905, 0.04621652886271477, 0.000296675629215315, -0.055160678923130035, 0.008783888071775436, -0.01403437927365303, 0.030190322548151016, 0.031594522297382355, 0.077963687479496, -0.005074965767562389, 0.007440739311277866, -0.04307233914732933, 0.02574877440929413, 0.019460394978523254, 0.007326266262680292, 0.008822045288980007, 0.12503494322299957, -0.022329850122332573, -0.005773250479251146, -0.08180997520685196, -0.02547403797507286, 0.03907341882586479, -0.04859756678342819, -0.03797448053956032, -0.0005160820437595248, 0.058274343609809875, 0.027885600924491882, -0.25593090057373047, 0.037730272859334946, -0.010584928095340729, -0.061235375702381134, -0.0013708131154999137, -0.02677139826118946, -0.005040623713284731, -0.04136287793517113, 0.06746270507574081, 0.028099283576011658, -0.020483018830418587, 0.015705684199929237, 0.06514272093772888, 0.027671918272972107, 0.04655231907963753, 0.019551973789930344, 0.014652532525360584, -0.06404377520084381, 0.02635929547250271, 0.007807052694261074, -0.04145445674657822, 0.01880408450961113, 0.017827248200774193, -0.007028636988252401, -0.012218075804412365, -0.09249411523342133, 0.056198567152023315, 0.006009827833622694, 0.011126766912639141, 0.014423586428165436, 0.04044709727168083, 0.044659700244665146, -0.030617687851190567, -0.10635297000408173, 0.006341799162328243, 0.03595975786447525, 0.03455555438995361, 0.059739597141742706, -0.08205418288707733, -0.09383726119995117, 0.006486798170953989, 0.024497203528881073, 0.03403661400079727, -0.061235375702381134, 0.024161415174603462, 0.01888039894402027, -0.02052880823612213, 0.03385345637798309, -0.04435443878173828, -0.022558795288205147, 0.04218708351254463, -0.006769164931029081, 0.06392167508602142, 0.013309383764863014, 0.053329113870859146, -0.018483558669686317, -0.056198567152023315, 0.016758834943175316, 0.015995681285858154, -0.004399575758725405, -0.04023341089487076, 0.017216725274920464, -0.06752375513315201, -0.07936788350343704, 0.016056733205914497, -0.0007207023445516825, -0.02651192620396614, -0.13553592562675476, -0.049696505069732666, -0.12375284731388092, -0.0020452493336051702, 0.0018735399935394526, -0.023825628682971, 0.014919635839760303, 0.020696701481938362, -0.023245632648468018, 0.09115096181631088, 0.030556635931134224, 0.04444601759314537, -0.037302907556295395, -0.006177721545100212, 0.12204338610172272, 0.030190322548151016, -0.02174985408782959, 0.004792599007487297, 0.037302907556295395, 0.0580606609582901, -0.029442433267831802, 0.01365280244499445, -0.036692384630441666, -0.00038276880513876677, -0.0398670993745327, 0.02234511263668537, -0.09200569242238998, 0.0623953677713871, -0.007131662219762802, -0.15116529166698456, -0.004949045367538929, 0.02234511263668537, 0.012248601764440536, -0.057419613003730774, -0.020818807184696198, 0.023245632648468018, -0.013179647736251354, -0.029518747702240944, 0.03806605935096741, -0.041393402963876724, -0.029167698696255684, -0.0014681151369586587, -0.02150564454495907, -0.008440469391644001, 0.020483018830418587, 0.08266470581293106, 0.0016655809013172984, 0.014492270536720753, 0.013805433176457882, -0.025535089895129204, -0.03180820494890213, 0.048048097640275955, -0.07350686937570572, -0.024405624717473984, 0.026298243552446365, 0.022329850122332573, 0.019460394978523254, -0.009325726889073849, 0.03440292552113533, 0.026740871369838715, 0.004929966758936644, 0.05253543332219124, 0.02054407261312008, -0.023444052785634995, -0.0132178058847785, -0.053787004202604294, -0.03510502725839615, -0.03675343468785286, 0.024848252534866333, -0.05174175649881363, 0.008547310717403889, -0.13211700320243835, 0.011187818832695484, 0.07753632217645645, -0.049513351172208786, -0.04694915562868118, 0.02954927459359169, -0.03510502725839615, -0.011073346249759197, -0.005876276176422834, -0.035318709909915924, 0.0031575444154441357, 0.02738192118704319, 0.05119228735566139, -0.007795605342835188, -0.010607822798192501, -0.0441712811589241, 0.03275451436638832, 0.03995867818593979, 0.02999190241098404, 0.009470725432038307, -0.06538692861795425, 0.017735669389367104, -0.0069103483110666275], index=0, object='embedding')], model='BAAI/bge-small-en-v1.5', object='list', usage=Usage(prompt_tokens=9, total_tokens=9))"
      ]
     },
     "execution_count": 8,
     "metadata": {},
     "output_type": "execute_result"
    }
   ],
   "source": [
    "output"
   ]
  },
  {
   "cell_type": "code",
   "execution_count": 9,
   "metadata": {},
   "outputs": [],
   "source": [
    "def get_embedding(embedding_client,model_name,text_input):\n",
    "    output = embedding_client.embeddings.create(input = text_input,model=model_name)\n",
    "    \n",
    "    embeddings = []\n",
    "    for embedding_object in output.data:\n",
    "        embeddings.append(embedding_object.embedding)\n",
    "\n",
    "    return embeddings"
   ]
  },
  {
   "cell_type": "code",
   "execution_count": 10,
   "metadata": {},
   "outputs": [],
   "source": [
    "output = get_embedding(embedding_client,'BAAI/bge-small-en-v1.5',user_prompt)\n",
    "# model_name here doesn't matter as OpenAI only handles openai models and treats all other models the same way."
   ]
  },
  {
   "cell_type": "code",
   "execution_count": 11,
   "metadata": {},
   "outputs": [
    {
     "data": {
      "text/plain": [
       "[[-0.052291225641965866,\n",
       "  -0.029946113005280495,\n",
       "  0.060258541256189346,\n",
       "  -0.006330351810902357,\n",
       "  -0.031151894479990005,\n",
       "  -0.04475127533078194,\n",
       "  0.018254613503813744,\n",
       "  0.03483029082417488,\n",
       "  -0.017460934817790985,\n",
       "  0.046674422919750214,\n",
       "  0.05262701213359833,\n",
       "  0.016484098508954048,\n",
       "  -0.06703533977270126,\n",
       "  -0.00667377095669508,\n",
       "  0.09560777246952057,\n",
       "  0.022329850122332573,\n",
       "  0.1178307831287384,\n",
       "  -0.15360738337039948,\n",
       "  -0.07637632638216019,\n",
       "  0.01759830303490162,\n",
       "  -0.040080782026052475,\n",
       "  -0.022390902042388916,\n",
       "  -0.03943973407149315,\n",
       "  -0.032449252903461456,\n",
       "  0.03171662986278534,\n",
       "  0.05995327979326248,\n",
       "  0.0024668911937624216,\n",
       "  -0.009959143586456776,\n",
       "  -0.024039311334490776,\n",
       "  -0.1387106478214264,\n",
       "  -0.003941684029996395,\n",
       "  0.0004314197867643088,\n",
       "  0.019078819081187248,\n",
       "  0.02228406071662903,\n",
       "  -0.0026862977538257837,\n",
       "  -0.03663133084774017,\n",
       "  -0.00576180312782526,\n",
       "  0.03138083964586258,\n",
       "  -0.01083676889538765,\n",
       "  0.059678543359041214,\n",
       "  0.03101452812552452,\n",
       "  0.09286042302846909,\n",
       "  -0.10281194001436234,\n",
       "  -0.022558795288205147,\n",
       "  0.044079702347517014,\n",
       "  0.005620619747787714,\n",
       "  0.033670298755168915,\n",
       "  -0.02295563369989395,\n",
       "  0.008600731380283833,\n",
       "  -0.047956518828868866,\n",
       "  0.05076492205262184,\n",
       "  -0.00105601258110255,\n",
       "  0.01723198965191841,\n",
       "  -0.06318904459476471,\n",
       "  -0.010455192998051643,\n",
       "  -0.015224897302687168,\n",
       "  0.004231682047247887,\n",
       "  0.029167698696255684,\n",
       "  0.06813427805900574,\n",
       "  0.03754711523652077,\n",
       "  0.09133411943912506,\n",
       "  -0.024558255448937416,\n",
       "  -0.14103062450885773,\n",
       "  0.0901741310954094,\n",
       "  0.004823125433176756,\n",
       "  0.03632606938481331,\n",
       "  -0.046857576817274094,\n",
       "  -0.11911287903785706,\n",
       "  0.019979339092969894,\n",
       "  -0.07350686937570572,\n",
       "  0.0029820194467902184,\n",
       "  0.03440292552113533,\n",
       "  0.048994407057762146,\n",
       "  0.058884866535663605,\n",
       "  -0.015385159291327,\n",
       "  -0.0012792347697541118,\n",
       "  0.07912367582321167,\n",
       "  0.02658824250102043,\n",
       "  -0.04392707347869873,\n",
       "  0.037638694047927856,\n",
       "  0.07051531225442886,\n",
       "  0.008226786740124226,\n",
       "  0.01654515229165554,\n",
       "  0.030800845474004745,\n",
       "  0.03086189739406109,\n",
       "  -0.04490390792489052,\n",
       "  -0.030434532091021538,\n",
       "  0.029335591942071915,\n",
       "  -0.00217689317651093,\n",
       "  -0.08284786343574524,\n",
       "  -0.00020557426614686847,\n",
       "  -0.019857235252857208,\n",
       "  0.058701708912849426,\n",
       "  0.041393402963876724,\n",
       "  -0.10903926193714142,\n",
       "  0.0580606609582901,\n",
       "  0.023093001917004585,\n",
       "  -0.06132695451378822,\n",
       "  -0.053603850305080414,\n",
       "  0.3069705665111542,\n",
       "  -0.021078279241919518,\n",
       "  0.035654496401548386,\n",
       "  0.06727954745292664,\n",
       "  -0.04426285997033119,\n",
       "  0.03797448053956032,\n",
       "  -0.049879662692546844,\n",
       "  -0.023856155574321747,\n",
       "  -0.038615528494119644,\n",
       "  -0.04933019354939461,\n",
       "  0.06132695451378822,\n",
       "  -0.0012172285933047533,\n",
       "  -0.045453377068042755,\n",
       "  0.055496469140052795,\n",
       "  0.012019655667245388,\n",
       "  -0.012019655667245388,\n",
       "  -0.043102867901325226,\n",
       "  0.0520164892077446,\n",
       "  0.05140597000718117,\n",
       "  0.0494217723608017,\n",
       "  0.043896544724702835,\n",
       "  0.01148544903844595,\n",
       "  0.018956713378429413,\n",
       "  -0.007486528251320124,\n",
       "  0.019872497767210007,\n",
       "  2.2954203814151697e-05,\n",
       "  -0.028923489153385162,\n",
       "  0.002894256729632616,\n",
       "  0.03534923493862152,\n",
       "  -0.03525765612721443,\n",
       "  0.027000343427062035,\n",
       "  0.010035458952188492,\n",
       "  0.005429831799119711,\n",
       "  -0.08211523294448853,\n",
       "  0.054031215608119965,\n",
       "  0.03708922490477562,\n",
       "  -0.028312966227531433,\n",
       "  0.0028274809010326862,\n",
       "  -0.010378877632319927,\n",
       "  0.01871250569820404,\n",
       "  0.006055617239326239,\n",
       "  -0.08266470581293106,\n",
       "  -0.03186925873160362,\n",
       "  0.08724362403154373,\n",
       "  -0.07826894521713257,\n",
       "  0.009340989403426647,\n",
       "  0.0329071469604969,\n",
       "  -0.00014154097880236804,\n",
       "  0.051436495035886765,\n",
       "  0.001270649372600019,\n",
       "  0.04188182204961777,\n",
       "  -0.034280821681022644,\n",
       "  0.08180997520685196,\n",
       "  0.04237024113535881,\n",
       "  0.02425299398601055,\n",
       "  0.02530614472925663,\n",
       "  0.018910925835371017,\n",
       "  -0.024817727506160736,\n",
       "  -0.030297163873910904,\n",
       "  -0.02271142601966858,\n",
       "  0.08101629465818405,\n",
       "  -0.006425746250897646,\n",
       "  0.01915513351559639,\n",
       "  -0.06807322800159454,\n",
       "  -0.020910385996103287,\n",
       "  -0.013484909199178219,\n",
       "  -0.169969379901886,\n",
       "  0.01204255037009716,\n",
       "  0.051253337413072586,\n",
       "  -0.04136287793517113,\n",
       "  0.0003839612181764096,\n",
       "  -0.008638888597488403,\n",
       "  -0.00448733801022172,\n",
       "  0.029595063999295235,\n",
       "  -0.028709806501865387,\n",
       "  0.06447114050388336,\n",
       "  -0.02877085842192173,\n",
       "  0.0182088240981102,\n",
       "  0.0945088341832161,\n",
       "  -0.008341259323060513,\n",
       "  -0.007742184679955244,\n",
       "  -0.01967407763004303,\n",
       "  -0.02261984720826149,\n",
       "  -0.10616981238126755,\n",
       "  0.052871223539114,\n",
       "  0.05989222601056099,\n",
       "  -0.02339826337993145,\n",
       "  0.01758303865790367,\n",
       "  -0.013187278993427753,\n",
       "  0.08773203939199448,\n",
       "  -0.016056733205914497,\n",
       "  0.03281556814908981,\n",
       "  0.039561837911605835,\n",
       "  -0.06074695661664009,\n",
       "  0.06630270928144455,\n",
       "  -0.03931763023138046,\n",
       "  -0.02000986412167549,\n",
       "  0.006566929165273905,\n",
       "  0.04621652886271477,\n",
       "  0.000296675629215315,\n",
       "  -0.055160678923130035,\n",
       "  0.008783888071775436,\n",
       "  -0.01403437927365303,\n",
       "  0.030190322548151016,\n",
       "  0.031594522297382355,\n",
       "  0.077963687479496,\n",
       "  -0.005074965767562389,\n",
       "  0.007440739311277866,\n",
       "  -0.04307233914732933,\n",
       "  0.02574877440929413,\n",
       "  0.019460394978523254,\n",
       "  0.007326266262680292,\n",
       "  0.008822045288980007,\n",
       "  0.12503494322299957,\n",
       "  -0.022329850122332573,\n",
       "  -0.005773250479251146,\n",
       "  -0.08180997520685196,\n",
       "  -0.02547403797507286,\n",
       "  0.03907341882586479,\n",
       "  -0.04859756678342819,\n",
       "  -0.03797448053956032,\n",
       "  -0.0005160820437595248,\n",
       "  0.058274343609809875,\n",
       "  0.027885600924491882,\n",
       "  -0.25593090057373047,\n",
       "  0.037730272859334946,\n",
       "  -0.010584928095340729,\n",
       "  -0.061235375702381134,\n",
       "  -0.0013708131154999137,\n",
       "  -0.02677139826118946,\n",
       "  -0.005040623713284731,\n",
       "  -0.04136287793517113,\n",
       "  0.06746270507574081,\n",
       "  0.028099283576011658,\n",
       "  -0.020483018830418587,\n",
       "  0.015705684199929237,\n",
       "  0.06514272093772888,\n",
       "  0.027671918272972107,\n",
       "  0.04655231907963753,\n",
       "  0.019551973789930344,\n",
       "  0.014652532525360584,\n",
       "  -0.06404377520084381,\n",
       "  0.02635929547250271,\n",
       "  0.007807052694261074,\n",
       "  -0.04145445674657822,\n",
       "  0.01880408450961113,\n",
       "  0.017827248200774193,\n",
       "  -0.007028636988252401,\n",
       "  -0.012218075804412365,\n",
       "  -0.09249411523342133,\n",
       "  0.056198567152023315,\n",
       "  0.006009827833622694,\n",
       "  0.011126766912639141,\n",
       "  0.014423586428165436,\n",
       "  0.04044709727168083,\n",
       "  0.044659700244665146,\n",
       "  -0.030617687851190567,\n",
       "  -0.10635297000408173,\n",
       "  0.006341799162328243,\n",
       "  0.03595975786447525,\n",
       "  0.03455555438995361,\n",
       "  0.059739597141742706,\n",
       "  -0.08205418288707733,\n",
       "  -0.09383726119995117,\n",
       "  0.006486798170953989,\n",
       "  0.024497203528881073,\n",
       "  0.03403661400079727,\n",
       "  -0.061235375702381134,\n",
       "  0.024161415174603462,\n",
       "  0.01888039894402027,\n",
       "  -0.02052880823612213,\n",
       "  0.03385345637798309,\n",
       "  -0.04435443878173828,\n",
       "  -0.022558795288205147,\n",
       "  0.04218708351254463,\n",
       "  -0.006769164931029081,\n",
       "  0.06392167508602142,\n",
       "  0.013309383764863014,\n",
       "  0.053329113870859146,\n",
       "  -0.018483558669686317,\n",
       "  -0.056198567152023315,\n",
       "  0.016758834943175316,\n",
       "  0.015995681285858154,\n",
       "  -0.004399575758725405,\n",
       "  -0.04023341089487076,\n",
       "  0.017216725274920464,\n",
       "  -0.06752375513315201,\n",
       "  -0.07936788350343704,\n",
       "  0.016056733205914497,\n",
       "  -0.0007207023445516825,\n",
       "  -0.02651192620396614,\n",
       "  -0.13553592562675476,\n",
       "  -0.049696505069732666,\n",
       "  -0.12375284731388092,\n",
       "  -0.0020452493336051702,\n",
       "  0.0018735399935394526,\n",
       "  -0.023825628682971,\n",
       "  0.014919635839760303,\n",
       "  0.020696701481938362,\n",
       "  -0.023245632648468018,\n",
       "  0.09115096181631088,\n",
       "  0.030556635931134224,\n",
       "  0.04444601759314537,\n",
       "  -0.037302907556295395,\n",
       "  -0.006177721545100212,\n",
       "  0.12204338610172272,\n",
       "  0.030190322548151016,\n",
       "  -0.02174985408782959,\n",
       "  0.004792599007487297,\n",
       "  0.037302907556295395,\n",
       "  0.0580606609582901,\n",
       "  -0.029442433267831802,\n",
       "  0.01365280244499445,\n",
       "  -0.036692384630441666,\n",
       "  -0.00038276880513876677,\n",
       "  -0.0398670993745327,\n",
       "  0.02234511263668537,\n",
       "  -0.09200569242238998,\n",
       "  0.0623953677713871,\n",
       "  -0.007131662219762802,\n",
       "  -0.15116529166698456,\n",
       "  -0.004949045367538929,\n",
       "  0.02234511263668537,\n",
       "  0.012248601764440536,\n",
       "  -0.057419613003730774,\n",
       "  -0.020818807184696198,\n",
       "  0.023245632648468018,\n",
       "  -0.013179647736251354,\n",
       "  -0.029518747702240944,\n",
       "  0.03806605935096741,\n",
       "  -0.041393402963876724,\n",
       "  -0.029167698696255684,\n",
       "  -0.0014681151369586587,\n",
       "  -0.02150564454495907,\n",
       "  -0.008440469391644001,\n",
       "  0.020483018830418587,\n",
       "  0.08266470581293106,\n",
       "  0.0016655809013172984,\n",
       "  0.014492270536720753,\n",
       "  0.013805433176457882,\n",
       "  -0.025535089895129204,\n",
       "  -0.03180820494890213,\n",
       "  0.048048097640275955,\n",
       "  -0.07350686937570572,\n",
       "  -0.024405624717473984,\n",
       "  0.026298243552446365,\n",
       "  0.022329850122332573,\n",
       "  0.019460394978523254,\n",
       "  -0.009325726889073849,\n",
       "  0.03440292552113533,\n",
       "  0.026740871369838715,\n",
       "  0.004929966758936644,\n",
       "  0.05253543332219124,\n",
       "  0.02054407261312008,\n",
       "  -0.023444052785634995,\n",
       "  -0.0132178058847785,\n",
       "  -0.053787004202604294,\n",
       "  -0.03510502725839615,\n",
       "  -0.03675343468785286,\n",
       "  0.024848252534866333,\n",
       "  -0.05174175649881363,\n",
       "  0.008547310717403889,\n",
       "  -0.13211700320243835,\n",
       "  0.011187818832695484,\n",
       "  0.07753632217645645,\n",
       "  -0.049513351172208786,\n",
       "  -0.04694915562868118,\n",
       "  0.02954927459359169,\n",
       "  -0.03510502725839615,\n",
       "  -0.011073346249759197,\n",
       "  -0.005876276176422834,\n",
       "  -0.035318709909915924,\n",
       "  0.0031575444154441357,\n",
       "  0.02738192118704319,\n",
       "  0.05119228735566139,\n",
       "  -0.007795605342835188,\n",
       "  -0.010607822798192501,\n",
       "  -0.0441712811589241,\n",
       "  0.03275451436638832,\n",
       "  0.03995867818593979,\n",
       "  0.02999190241098404,\n",
       "  0.009470725432038307,\n",
       "  -0.06538692861795425,\n",
       "  0.017735669389367104,\n",
       "  -0.0069103483110666275]]"
      ]
     },
     "execution_count": 11,
     "metadata": {},
     "output_type": "execute_result"
    }
   ],
   "source": [
    "output"
   ]
  },
  {
   "cell_type": "code",
   "execution_count": 12,
   "metadata": {},
   "outputs": [
    {
     "data": {
      "text/plain": [
       "384"
      ]
     },
     "execution_count": 12,
     "metadata": {},
     "output_type": "execute_result"
    }
   ],
   "source": [
    "len(output[0])"
   ]
  },
  {
   "cell_type": "code",
   "execution_count": 13,
   "metadata": {},
   "outputs": [],
   "source": [
    "user_prompt_embeddings = get_embedding(embedding_client,'BAAI/bge-small-en-v1.5',user_prompt)[0]"
   ]
  },
  {
   "cell_type": "code",
   "execution_count": 14,
   "metadata": {},
   "outputs": [
    {
     "data": {
      "text/plain": [
       "[-0.052291225641965866,\n",
       " -0.029946113005280495,\n",
       " 0.060258541256189346,\n",
       " -0.006330351810902357,\n",
       " -0.031151894479990005,\n",
       " -0.04475127533078194,\n",
       " 0.018254613503813744,\n",
       " 0.03483029082417488,\n",
       " -0.017460934817790985,\n",
       " 0.046674422919750214,\n",
       " 0.05262701213359833,\n",
       " 0.016484098508954048,\n",
       " -0.06703533977270126,\n",
       " -0.00667377095669508,\n",
       " 0.09560777246952057,\n",
       " 0.022329850122332573,\n",
       " 0.1178307831287384,\n",
       " -0.15360738337039948,\n",
       " -0.07637632638216019,\n",
       " 0.01759830303490162,\n",
       " -0.040080782026052475,\n",
       " -0.022390902042388916,\n",
       " -0.03943973407149315,\n",
       " -0.032449252903461456,\n",
       " 0.03171662986278534,\n",
       " 0.05995327979326248,\n",
       " 0.0024668911937624216,\n",
       " -0.009959143586456776,\n",
       " -0.024039311334490776,\n",
       " -0.1387106478214264,\n",
       " -0.003941684029996395,\n",
       " 0.0004314197867643088,\n",
       " 0.019078819081187248,\n",
       " 0.02228406071662903,\n",
       " -0.0026862977538257837,\n",
       " -0.03663133084774017,\n",
       " -0.00576180312782526,\n",
       " 0.03138083964586258,\n",
       " -0.01083676889538765,\n",
       " 0.059678543359041214,\n",
       " 0.03101452812552452,\n",
       " 0.09286042302846909,\n",
       " -0.10281194001436234,\n",
       " -0.022558795288205147,\n",
       " 0.044079702347517014,\n",
       " 0.005620619747787714,\n",
       " 0.033670298755168915,\n",
       " -0.02295563369989395,\n",
       " 0.008600731380283833,\n",
       " -0.047956518828868866,\n",
       " 0.05076492205262184,\n",
       " -0.00105601258110255,\n",
       " 0.01723198965191841,\n",
       " -0.06318904459476471,\n",
       " -0.010455192998051643,\n",
       " -0.015224897302687168,\n",
       " 0.004231682047247887,\n",
       " 0.029167698696255684,\n",
       " 0.06813427805900574,\n",
       " 0.03754711523652077,\n",
       " 0.09133411943912506,\n",
       " -0.024558255448937416,\n",
       " -0.14103062450885773,\n",
       " 0.0901741310954094,\n",
       " 0.004823125433176756,\n",
       " 0.03632606938481331,\n",
       " -0.046857576817274094,\n",
       " -0.11911287903785706,\n",
       " 0.019979339092969894,\n",
       " -0.07350686937570572,\n",
       " 0.0029820194467902184,\n",
       " 0.03440292552113533,\n",
       " 0.048994407057762146,\n",
       " 0.058884866535663605,\n",
       " -0.015385159291327,\n",
       " -0.0012792347697541118,\n",
       " 0.07912367582321167,\n",
       " 0.02658824250102043,\n",
       " -0.04392707347869873,\n",
       " 0.037638694047927856,\n",
       " 0.07051531225442886,\n",
       " 0.008226786740124226,\n",
       " 0.01654515229165554,\n",
       " 0.030800845474004745,\n",
       " 0.03086189739406109,\n",
       " -0.04490390792489052,\n",
       " -0.030434532091021538,\n",
       " 0.029335591942071915,\n",
       " -0.00217689317651093,\n",
       " -0.08284786343574524,\n",
       " -0.00020557426614686847,\n",
       " -0.019857235252857208,\n",
       " 0.058701708912849426,\n",
       " 0.041393402963876724,\n",
       " -0.10903926193714142,\n",
       " 0.0580606609582901,\n",
       " 0.023093001917004585,\n",
       " -0.06132695451378822,\n",
       " -0.053603850305080414,\n",
       " 0.3069705665111542,\n",
       " -0.021078279241919518,\n",
       " 0.035654496401548386,\n",
       " 0.06727954745292664,\n",
       " -0.04426285997033119,\n",
       " 0.03797448053956032,\n",
       " -0.049879662692546844,\n",
       " -0.023856155574321747,\n",
       " -0.038615528494119644,\n",
       " -0.04933019354939461,\n",
       " 0.06132695451378822,\n",
       " -0.0012172285933047533,\n",
       " -0.045453377068042755,\n",
       " 0.055496469140052795,\n",
       " 0.012019655667245388,\n",
       " -0.012019655667245388,\n",
       " -0.043102867901325226,\n",
       " 0.0520164892077446,\n",
       " 0.05140597000718117,\n",
       " 0.0494217723608017,\n",
       " 0.043896544724702835,\n",
       " 0.01148544903844595,\n",
       " 0.018956713378429413,\n",
       " -0.007486528251320124,\n",
       " 0.019872497767210007,\n",
       " 2.2954203814151697e-05,\n",
       " -0.028923489153385162,\n",
       " 0.002894256729632616,\n",
       " 0.03534923493862152,\n",
       " -0.03525765612721443,\n",
       " 0.027000343427062035,\n",
       " 0.010035458952188492,\n",
       " 0.005429831799119711,\n",
       " -0.08211523294448853,\n",
       " 0.054031215608119965,\n",
       " 0.03708922490477562,\n",
       " -0.028312966227531433,\n",
       " 0.0028274809010326862,\n",
       " -0.010378877632319927,\n",
       " 0.01871250569820404,\n",
       " 0.006055617239326239,\n",
       " -0.08266470581293106,\n",
       " -0.03186925873160362,\n",
       " 0.08724362403154373,\n",
       " -0.07826894521713257,\n",
       " 0.009340989403426647,\n",
       " 0.0329071469604969,\n",
       " -0.00014154097880236804,\n",
       " 0.051436495035886765,\n",
       " 0.001270649372600019,\n",
       " 0.04188182204961777,\n",
       " -0.034280821681022644,\n",
       " 0.08180997520685196,\n",
       " 0.04237024113535881,\n",
       " 0.02425299398601055,\n",
       " 0.02530614472925663,\n",
       " 0.018910925835371017,\n",
       " -0.024817727506160736,\n",
       " -0.030297163873910904,\n",
       " -0.02271142601966858,\n",
       " 0.08101629465818405,\n",
       " -0.006425746250897646,\n",
       " 0.01915513351559639,\n",
       " -0.06807322800159454,\n",
       " -0.020910385996103287,\n",
       " -0.013484909199178219,\n",
       " -0.169969379901886,\n",
       " 0.01204255037009716,\n",
       " 0.051253337413072586,\n",
       " -0.04136287793517113,\n",
       " 0.0003839612181764096,\n",
       " -0.008638888597488403,\n",
       " -0.00448733801022172,\n",
       " 0.029595063999295235,\n",
       " -0.028709806501865387,\n",
       " 0.06447114050388336,\n",
       " -0.02877085842192173,\n",
       " 0.0182088240981102,\n",
       " 0.0945088341832161,\n",
       " -0.008341259323060513,\n",
       " -0.007742184679955244,\n",
       " -0.01967407763004303,\n",
       " -0.02261984720826149,\n",
       " -0.10616981238126755,\n",
       " 0.052871223539114,\n",
       " 0.05989222601056099,\n",
       " -0.02339826337993145,\n",
       " 0.01758303865790367,\n",
       " -0.013187278993427753,\n",
       " 0.08773203939199448,\n",
       " -0.016056733205914497,\n",
       " 0.03281556814908981,\n",
       " 0.039561837911605835,\n",
       " -0.06074695661664009,\n",
       " 0.06630270928144455,\n",
       " -0.03931763023138046,\n",
       " -0.02000986412167549,\n",
       " 0.006566929165273905,\n",
       " 0.04621652886271477,\n",
       " 0.000296675629215315,\n",
       " -0.055160678923130035,\n",
       " 0.008783888071775436,\n",
       " -0.01403437927365303,\n",
       " 0.030190322548151016,\n",
       " 0.031594522297382355,\n",
       " 0.077963687479496,\n",
       " -0.005074965767562389,\n",
       " 0.007440739311277866,\n",
       " -0.04307233914732933,\n",
       " 0.02574877440929413,\n",
       " 0.019460394978523254,\n",
       " 0.007326266262680292,\n",
       " 0.008822045288980007,\n",
       " 0.12503494322299957,\n",
       " -0.022329850122332573,\n",
       " -0.005773250479251146,\n",
       " -0.08180997520685196,\n",
       " -0.02547403797507286,\n",
       " 0.03907341882586479,\n",
       " -0.04859756678342819,\n",
       " -0.03797448053956032,\n",
       " -0.0005160820437595248,\n",
       " 0.058274343609809875,\n",
       " 0.027885600924491882,\n",
       " -0.25593090057373047,\n",
       " 0.037730272859334946,\n",
       " -0.010584928095340729,\n",
       " -0.061235375702381134,\n",
       " -0.0013708131154999137,\n",
       " -0.02677139826118946,\n",
       " -0.005040623713284731,\n",
       " -0.04136287793517113,\n",
       " 0.06746270507574081,\n",
       " 0.028099283576011658,\n",
       " -0.020483018830418587,\n",
       " 0.015705684199929237,\n",
       " 0.06514272093772888,\n",
       " 0.027671918272972107,\n",
       " 0.04655231907963753,\n",
       " 0.019551973789930344,\n",
       " 0.014652532525360584,\n",
       " -0.06404377520084381,\n",
       " 0.02635929547250271,\n",
       " 0.007807052694261074,\n",
       " -0.04145445674657822,\n",
       " 0.01880408450961113,\n",
       " 0.017827248200774193,\n",
       " -0.007028636988252401,\n",
       " -0.012218075804412365,\n",
       " -0.09249411523342133,\n",
       " 0.056198567152023315,\n",
       " 0.006009827833622694,\n",
       " 0.011126766912639141,\n",
       " 0.014423586428165436,\n",
       " 0.04044709727168083,\n",
       " 0.044659700244665146,\n",
       " -0.030617687851190567,\n",
       " -0.10635297000408173,\n",
       " 0.006341799162328243,\n",
       " 0.03595975786447525,\n",
       " 0.03455555438995361,\n",
       " 0.059739597141742706,\n",
       " -0.08205418288707733,\n",
       " -0.09383726119995117,\n",
       " 0.006486798170953989,\n",
       " 0.024497203528881073,\n",
       " 0.03403661400079727,\n",
       " -0.061235375702381134,\n",
       " 0.024161415174603462,\n",
       " 0.01888039894402027,\n",
       " -0.02052880823612213,\n",
       " 0.03385345637798309,\n",
       " -0.04435443878173828,\n",
       " -0.022558795288205147,\n",
       " 0.04218708351254463,\n",
       " -0.006769164931029081,\n",
       " 0.06392167508602142,\n",
       " 0.013309383764863014,\n",
       " 0.053329113870859146,\n",
       " -0.018483558669686317,\n",
       " -0.056198567152023315,\n",
       " 0.016758834943175316,\n",
       " 0.015995681285858154,\n",
       " -0.004399575758725405,\n",
       " -0.04023341089487076,\n",
       " 0.017216725274920464,\n",
       " -0.06752375513315201,\n",
       " -0.07936788350343704,\n",
       " 0.016056733205914497,\n",
       " -0.0007207023445516825,\n",
       " -0.02651192620396614,\n",
       " -0.13553592562675476,\n",
       " -0.049696505069732666,\n",
       " -0.12375284731388092,\n",
       " -0.0020452493336051702,\n",
       " 0.0018735399935394526,\n",
       " -0.023825628682971,\n",
       " 0.014919635839760303,\n",
       " 0.020696701481938362,\n",
       " -0.023245632648468018,\n",
       " 0.09115096181631088,\n",
       " 0.030556635931134224,\n",
       " 0.04444601759314537,\n",
       " -0.037302907556295395,\n",
       " -0.006177721545100212,\n",
       " 0.12204338610172272,\n",
       " 0.030190322548151016,\n",
       " -0.02174985408782959,\n",
       " 0.004792599007487297,\n",
       " 0.037302907556295395,\n",
       " 0.0580606609582901,\n",
       " -0.029442433267831802,\n",
       " 0.01365280244499445,\n",
       " -0.036692384630441666,\n",
       " -0.00038276880513876677,\n",
       " -0.0398670993745327,\n",
       " 0.02234511263668537,\n",
       " -0.09200569242238998,\n",
       " 0.0623953677713871,\n",
       " -0.007131662219762802,\n",
       " -0.15116529166698456,\n",
       " -0.004949045367538929,\n",
       " 0.02234511263668537,\n",
       " 0.012248601764440536,\n",
       " -0.057419613003730774,\n",
       " -0.020818807184696198,\n",
       " 0.023245632648468018,\n",
       " -0.013179647736251354,\n",
       " -0.029518747702240944,\n",
       " 0.03806605935096741,\n",
       " -0.041393402963876724,\n",
       " -0.029167698696255684,\n",
       " -0.0014681151369586587,\n",
       " -0.02150564454495907,\n",
       " -0.008440469391644001,\n",
       " 0.020483018830418587,\n",
       " 0.08266470581293106,\n",
       " 0.0016655809013172984,\n",
       " 0.014492270536720753,\n",
       " 0.013805433176457882,\n",
       " -0.025535089895129204,\n",
       " -0.03180820494890213,\n",
       " 0.048048097640275955,\n",
       " -0.07350686937570572,\n",
       " -0.024405624717473984,\n",
       " 0.026298243552446365,\n",
       " 0.022329850122332573,\n",
       " 0.019460394978523254,\n",
       " -0.009325726889073849,\n",
       " 0.03440292552113533,\n",
       " 0.026740871369838715,\n",
       " 0.004929966758936644,\n",
       " 0.05253543332219124,\n",
       " 0.02054407261312008,\n",
       " -0.023444052785634995,\n",
       " -0.0132178058847785,\n",
       " -0.053787004202604294,\n",
       " -0.03510502725839615,\n",
       " -0.03675343468785286,\n",
       " 0.024848252534866333,\n",
       " -0.05174175649881363,\n",
       " 0.008547310717403889,\n",
       " -0.13211700320243835,\n",
       " 0.011187818832695484,\n",
       " 0.07753632217645645,\n",
       " -0.049513351172208786,\n",
       " -0.04694915562868118,\n",
       " 0.02954927459359169,\n",
       " -0.03510502725839615,\n",
       " -0.011073346249759197,\n",
       " -0.005876276176422834,\n",
       " -0.035318709909915924,\n",
       " 0.0031575444154441357,\n",
       " 0.02738192118704319,\n",
       " 0.05119228735566139,\n",
       " -0.007795605342835188,\n",
       " -0.010607822798192501,\n",
       " -0.0441712811589241,\n",
       " 0.03275451436638832,\n",
       " 0.03995867818593979,\n",
       " 0.02999190241098404,\n",
       " 0.009470725432038307,\n",
       " -0.06538692861795425,\n",
       " 0.017735669389367104,\n",
       " -0.0069103483110666275]"
      ]
     },
     "execution_count": 14,
     "metadata": {},
     "output_type": "execute_result"
    }
   ],
   "source": [
    "user_prompt_embeddings"
   ]
  },
  {
   "cell_type": "code",
   "execution_count": 15,
   "metadata": {},
   "outputs": [],
   "source": [
    "data_embeddings = [get_embedding(embedding_client,'BAAI/bge-small-en-v1.5',x)[0] for x in data]"
   ]
  },
  {
   "cell_type": "code",
   "execution_count": 16,
   "metadata": {},
   "outputs": [
    {
     "data": {
      "text/plain": [
       "2"
      ]
     },
     "execution_count": 16,
     "metadata": {},
     "output_type": "execute_result"
    }
   ],
   "source": [
    "len(data_embeddings)"
   ]
  },
  {
   "cell_type": "code",
   "execution_count": 17,
   "metadata": {},
   "outputs": [],
   "source": [
    "data_similarity =  cosine_similarity([user_prompt_embeddings],data_embeddings )"
   ]
  },
  {
   "cell_type": "code",
   "execution_count": null,
   "metadata": {},
   "outputs": [
    {
     "data": {
      "text/plain": [
       "array([[0.74291352, 0.53812339]])"
      ]
     },
     "execution_count": 18,
     "metadata": {},
     "output_type": "execute_result"
    }
   ],
   "source": [
    "data_similarity\n",
    "# Higher the score more the similarity."
   ]
  },
  {
   "cell_type": "code",
   "execution_count": 19,
   "metadata": {},
   "outputs": [
    {
     "data": {
      "text/plain": [
       "0"
      ]
     },
     "execution_count": 19,
     "metadata": {},
     "output_type": "execute_result"
    }
   ],
   "source": [
    "closest_entry_index = data_similarity.argmax()\n",
    "closest_entry_index"
   ]
  },
  {
   "cell_type": "code",
   "execution_count": 20,
   "metadata": {},
   "outputs": [
    {
     "data": {
      "text/plain": [
       "'\\nThe iPhone 16 introduces several exciting updates, making it one of Apple\\'s most advanced smartphones to date. It features a larger 6.1-inch display for the base model and a 6.7-inch screen for the iPhone 16 Plus, with thinner bezels and a more durable Ceramic Shield. The iPhone 16 Pro and Pro Max boast even larger displays, measuring 6.3 and 6.9 inches respectively, offering the thinnest bezels seen on any Apple product so far.\\n\\nPowered by the new A18 chip (A18 Pro for the Pro models), these phones deliver significant performance improvements, with enhanced neural engine capabilities, faster GPU for gaming, and machine learning tasks. The camera systems are also upgraded, with the base iPhone 16 sporting a dual-camera setup with a 48MP main sensor. The Pro models offer a 48MP Ultra Wide and 5x telephoto camera, enhanced by Apple’s \"Camera Control\" button for more flexible photography options.\\n\\nApple also introduced advanced audio features like \"Audio Mix,\" which uses machine learning to separate background sounds from speech, allowing for more refined audio capture during video recording. Battery life has been extended, especially in the iPhone 16 Pro Max, which is claimed to have the longest-lasting battery of any iPhone.\\n\\nAdditionally, Apple has switched to USB-C for faster charging and data transfer, and the Pro models now support up to 2x faster video encoding. The starting prices remain consistent with previous generations, with the iPhone 16 starting at $799, while the Pro models start at $999\\n'"
      ]
     },
     "execution_count": 20,
     "metadata": {},
     "output_type": "execute_result"
    }
   ],
   "source": [
    "data[closest_entry_index]"
   ]
  },
  {
   "cell_type": "code",
   "execution_count": 21,
   "metadata": {},
   "outputs": [],
   "source": [
    "user_prompt_with_data = f\"\"\"\n",
    "{data[closest_entry_index]}\n",
    "{user_prompt}\n",
    "\"\"\""
   ]
  },
  {
   "cell_type": "code",
   "execution_count": 22,
   "metadata": {},
   "outputs": [
    {
     "data": {
      "text/plain": [
       "'\\n\\nThe iPhone 16 introduces several exciting updates, making it one of Apple\\'s most advanced smartphones to date. It features a larger 6.1-inch display for the base model and a 6.7-inch screen for the iPhone 16 Plus, with thinner bezels and a more durable Ceramic Shield. The iPhone 16 Pro and Pro Max boast even larger displays, measuring 6.3 and 6.9 inches respectively, offering the thinnest bezels seen on any Apple product so far.\\n\\nPowered by the new A18 chip (A18 Pro for the Pro models), these phones deliver significant performance improvements, with enhanced neural engine capabilities, faster GPU for gaming, and machine learning tasks. The camera systems are also upgraded, with the base iPhone 16 sporting a dual-camera setup with a 48MP main sensor. The Pro models offer a 48MP Ultra Wide and 5x telephoto camera, enhanced by Apple’s \"Camera Control\" button for more flexible photography options.\\n\\nApple also introduced advanced audio features like \"Audio Mix,\" which uses machine learning to separate background sounds from speech, allowing for more refined audio capture during video recording. Battery life has been extended, especially in the iPhone 16 Pro Max, which is claimed to have the longest-lasting battery of any iPhone.\\n\\nAdditionally, Apple has switched to USB-C for faster charging and data transfer, and the Pro models now support up to 2x faster video encoding. The starting prices remain consistent with previous generations, with the iPhone 16 starting at $799, while the Pro models start at $999\\n\\n\\nWhat\\'s new in the iphone 16?\\n\\n'"
      ]
     },
     "execution_count": 22,
     "metadata": {},
     "output_type": "execute_result"
    }
   ],
   "source": [
    "user_prompt_with_data"
   ]
  },
  {
   "cell_type": "code",
   "execution_count": 28,
   "metadata": {},
   "outputs": [
    {
     "name": "stdout",
     "output_type": "stream",
     "text": [
      "According to the information provided, the new features and updates in the iPhone 16 include:\n",
      "\n",
      "1. Larger display sizes:\n",
      "   - Base model: 6.1-inch display\n",
      "   - iPhone 16 Plus: 6.7-inch display\n",
      "   - iPhone 16 Pro: 6.3-inch display\n",
      "   - iPhone 16 Pro Max: 6.9-inch display\n",
      "\n",
      "2. Thinner bezels and a more durable Ceramic Shield\n",
      "\n",
      "3. New A18 chip (A18 Pro for Pro models) for improved performance, including:\n",
      "   - Enhanced neural engine capabilities\n",
      "   - Faster GPU for gaming\n",
      "   - Machine learning tasks\n",
      "\n",
      "4. Upgraded camera systems:\n",
      "   - Base iPhone 16: Dual-camera setup with a 48MP main sensor\n",
      "   - Pro models: 48MP Ultra Wide and 5x telephoto camera, with Apple's \"Camera Control\" button\n",
      "\n",
      "5. Advanced audio features:\n",
      "   - \"Audio Mix\" for refined audio capture during video recording\n",
      "\n",
      "6. Extended battery life, especially in the iPhone 16 Pro Max\n",
      "\n",
      "7. Switch to USB-C for faster charging and data transfer\n",
      "\n",
      "8. Support for up to 2x faster video encoding in Pro models\n",
      "\n",
      "9. Starting prices remain consistent with previous generations:\n",
      "   - iPhone 16: $799\n",
      "   - Pro models: $999\n"
     ]
    }
   ],
   "source": [
    "\n",
    "messages = [{\"role\":\"user\", \"content\":user_prompt_with_data}]\n",
    "response = get_chatbot_response(client, model_name, messages)\n",
    "print(response)"
   ]
  },
  {
   "cell_type": "code",
   "execution_count": 29,
   "metadata": {},
   "outputs": [
    {
     "data": {
      "text/plain": [
       "str"
      ]
     },
     "execution_count": 29,
     "metadata": {},
     "output_type": "execute_result"
    }
   ],
   "source": [
    "type(response)"
   ]
  },
  {
   "cell_type": "code",
   "execution_count": null,
   "metadata": {},
   "outputs": [],
   "source": []
  }
 ],
 "metadata": {
  "kernelspec": {
   "display_name": ".venv",
   "language": "python",
   "name": "python3"
  },
  "language_info": {
   "name": "python",
   "version": "3.12.0"
  }
 },
 "nbformat": 4,
 "nbformat_minor": 2
}

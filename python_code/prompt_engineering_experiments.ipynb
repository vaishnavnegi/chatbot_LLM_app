{
 "cells": [
  {
   "cell_type": "code",
   "execution_count": 2,
   "metadata": {},
   "outputs": [
    {
     "data": {
      "text/plain": [
       "True"
      ]
     },
     "execution_count": 2,
     "metadata": {},
     "output_type": "execute_result"
    }
   ],
   "source": [
    "from openai import OpenAI\n",
    "import os\n",
    "from dotenv import load_dotenv\n",
    "load_dotenv()"
   ]
  },
  {
   "cell_type": "markdown",
   "metadata": {},
   "source": [
    "# Getting LLM Response"
   ]
  },
  {
   "cell_type": "code",
   "execution_count": 3,
   "metadata": {},
   "outputs": [],
   "source": [
    "client = OpenAI(\n",
    "            api_key=os.getenv(\"RUNPOD_TOKEN\"),\n",
    "            base_url=os.getenv(\"RUNPOD_CHATBOT_URL\"),\n",
    "        )\n",
    "model_name = os.getenv(\"MODEL_NAME\")"
   ]
  },
  {
   "cell_type": "code",
   "execution_count": 4,
   "metadata": {},
   "outputs": [],
   "source": [
    "response = client.chat.completions.create(\n",
    "        model=model_name,\n",
    "        messages=[{\"role\":\"user\", \"content\":\"What are the countries in the UN Security Council?\"}],\n",
    "        temperature=0.0,\n",
    "        top_p=0.8,\n",
    "        max_tokens=2000,\n",
    "    )"
   ]
  },
  {
   "cell_type": "code",
   "execution_count": 5,
   "metadata": {},
   "outputs": [
    {
     "data": {
      "text/plain": [
       "ChatCompletion(id='chatcmpl-1577c7b557d248d8b25cc8370856ceeb', choices=[Choice(finish_reason='stop', index=0, logprobs=None, message=ChatCompletionMessage(content='The United Nations Security Council (UNSC) consists of 15 countries. The 5 permanent members are:\\n\\n1.  China\\n2.  France\\n3.  Russia\\n4.  United Kingdom\\n5.  United States\\n\\nThe 10 non-permanent members are elected by the UN General Assembly for a two-year term. The current non-permanent members are:\\n\\n1.  Albania (2022-2023)\\n2.  Brazil (2023-2024)\\n3.  Gabon (2022-2023)\\n4.  Ghana (2022-2023)\\n5.  India (2021-2022)\\n6.  Ireland (2022-2023)\\n7.  Kenya (2022-2023)\\n8.  Mexico (2021-2022)\\n9.  Norway (2021-2022)\\n10.  United Arab Emirates (2022-2023)\\n\\nPlease note that the non-permanent members change every two years, so the list may not be up to date.', refusal=None, role='assistant', audio=None, function_call=None, tool_calls=[]), stop_reason=None)], created=1738974016, model='meta-llama/Llama-3.1-8B-Instruct', object='chat.completion', service_tier=None, system_fingerprint=None, usage=CompletionUsage(completion_tokens=214, prompt_tokens=45, total_tokens=259, completion_tokens_details=None, prompt_tokens_details=None), prompt_logprobs=None)"
      ]
     },
     "execution_count": 5,
     "metadata": {},
     "output_type": "execute_result"
    }
   ],
   "source": [
    "response"
   ]
  },
  {
   "cell_type": "code",
   "execution_count": 6,
   "metadata": {},
   "outputs": [
    {
     "data": {
      "text/plain": [
       "'The United Nations Security Council (UNSC) consists of 15 countries. The 5 permanent members are:\\n\\n1.  China\\n2.  France\\n3.  Russia\\n4.  United Kingdom\\n5.  United States\\n\\nThe 10 non-permanent members are elected by the UN General Assembly for a two-year term. The current non-permanent members are:\\n\\n1.  Albania (2022-2023)\\n2.  Brazil (2023-2024)\\n3.  Gabon (2022-2023)\\n4.  Ghana (2022-2023)\\n5.  India (2021-2022)\\n6.  Ireland (2022-2023)\\n7.  Kenya (2022-2023)\\n8.  Mexico (2021-2022)\\n9.  Norway (2021-2022)\\n10.  United Arab Emirates (2022-2023)\\n\\nPlease note that the non-permanent members change every two years, so the list may not be up to date.'"
      ]
     },
     "execution_count": 6,
     "metadata": {},
     "output_type": "execute_result"
    }
   ],
   "source": [
    "response.choices[0].message.content"
   ]
  },
  {
   "cell_type": "code",
   "execution_count": 7,
   "metadata": {},
   "outputs": [],
   "source": [
    "def get_chatbot_response(client,model_name,messages,temperature=0):\n",
    "    input_messages = []\n",
    "    for message in messages:\n",
    "        input_messages.append({\"role\": message[\"role\"], \"content\": message[\"content\"]})\n",
    "\n",
    "    response = client.chat.completions.create(\n",
    "        model=model_name,\n",
    "        messages=input_messages,\n",
    "        temperature=temperature,\n",
    "        top_p=0.8,\n",
    "        max_tokens=2000,\n",
    "    ).choices[0].message.content\n",
    "    \n",
    "    return response"
   ]
  },
  {
   "cell_type": "code",
   "execution_count": 8,
   "metadata": {},
   "outputs": [
    {
     "name": "stdout",
     "output_type": "stream",
     "text": [
      "The capital of Denmark is Copenhagen.\n"
     ]
    }
   ],
   "source": [
    "messages = [{'role':'system','content':\"What's the capital of Denmark?\"}]\n",
    "response = get_chatbot_response(client,model_name,messages)\n",
    "print(response)"
   ]
  },
  {
   "cell_type": "code",
   "execution_count": null,
   "metadata": {},
   "outputs": [],
   "source": []
  }
 ],
 "metadata": {
  "language_info": {
   "name": "python"
  }
 },
 "nbformat": 4,
 "nbformat_minor": 2
}

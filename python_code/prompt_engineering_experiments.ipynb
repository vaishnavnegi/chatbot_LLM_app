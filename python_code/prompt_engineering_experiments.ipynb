{
 "cells": [
  {
   "cell_type": "code",
   "execution_count": 9,
   "metadata": {},
   "outputs": [
    {
     "data": {
      "text/plain": [
       "True"
      ]
     },
     "execution_count": 9,
     "metadata": {},
     "output_type": "execute_result"
    }
   ],
   "source": [
    "from openai import OpenAI\n",
    "import os\n",
    "from dotenv import load_dotenv\n",
    "load_dotenv()"
   ]
  },
  {
   "cell_type": "markdown",
   "metadata": {},
   "source": [
    "# Get LLM response"
   ]
  },
  {
   "cell_type": "code",
   "execution_count": 10,
   "metadata": {},
   "outputs": [],
   "source": [
    "client = OpenAI(\n",
    "            api_key=os.getenv(\"RUNPOD_TOKEN\"),\n",
    "            base_url=os.getenv(\"RUNPOD_CHATBOT_URL\"),\n",
    "        )\n",
    "model_name = os.getenv(\"MODEL_NAME\")"
   ]
  },
  {
   "cell_type": "code",
   "execution_count": 11,
   "metadata": {},
   "outputs": [],
   "source": [
    "response = client.chat.completions.create(\n",
    "        model=model_name,\n",
    "        messages=[{'role':'user','content':\"Which is the closest earth like planet?\"}],\n",
    "        temperature=0.0,\n",
    "        top_p=0.8,\n",
    "        max_tokens=2000,\n",
    "    )"
   ]
  },
  {
   "cell_type": "code",
   "execution_count": 12,
   "metadata": {},
   "outputs": [
    {
     "data": {
      "text/plain": [
       "ChatCompletion(id='chatcmpl-e6bb7472c7be4184a8a19d41304f58cb', choices=[Choice(finish_reason='stop', index=0, logprobs=None, message=ChatCompletionMessage(content=\"The closest Earth-like planet to our solar system is Proxima b, which orbits Proxima Centauri, the closest star to the Sun. Proxima b is a terrestrial planet with a mass similar to that of Earth and orbits within the habitable zone of its star, where liquid water could potentially exist on its surface.\\n\\nProxima b was discovered in 2016 by the European Southern Observatory (ESO) using the radial velocity method. The planet's mass is estimated to be around 1.3 times that of Earth, and its surface temperature could be suitable for liquid water to exist.\\n\\nHowever, it's worth noting that Proxima b is a bit larger than Earth and has a more eccentric orbit, which could affect its climate and habitability. Additionally, the star Proxima Centauri is a red dwarf, which is a different type of star than the Sun, and it emits more ultraviolet and X-ray radiation, which could have an impact on the planet's atmosphere.\\n\\nOther notable Earth-like planets that are close to our solar system include:\\n\\n* TRAPPIST-1e, which orbits the ultracool dwarf star TRAPPIST-1 and is one of seven Earth-sized planets in the system.\\n* LHS 1140b, which orbits a small, cool star and is a super-Earth with a mass around 7 times that of Earth.\\n* Ross 128 b, which orbits a quiet red dwarf star and is a temperate exoplanet with a mass around 1.1 times that of Earth.\\n\\nThese planets are all located within a few dozen light-years of our solar system and are considered promising candidates for hosting life. However, more research is needed to determine their habitability and potential for supporting life.\", refusal=None, role='assistant', audio=None, function_call=None, tool_calls=[]), stop_reason=None)], created=1738974596, model='meta-llama/Llama-3.1-8B-Instruct', object='chat.completion', service_tier=None, system_fingerprint=None, usage=CompletionUsage(completion_tokens=356, prompt_tokens=43, total_tokens=399, completion_tokens_details=None, prompt_tokens_details=None), prompt_logprobs=None)"
      ]
     },
     "execution_count": 12,
     "metadata": {},
     "output_type": "execute_result"
    }
   ],
   "source": [
    "response"
   ]
  },
  {
   "cell_type": "code",
   "execution_count": 13,
   "metadata": {},
   "outputs": [
    {
     "data": {
      "text/plain": [
       "\"The closest Earth-like planet to our solar system is Proxima b, which orbits Proxima Centauri, the closest star to the Sun. Proxima b is a terrestrial planet with a mass similar to that of Earth and orbits within the habitable zone of its star, where liquid water could potentially exist on its surface.\\n\\nProxima b was discovered in 2016 by the European Southern Observatory (ESO) using the radial velocity method. The planet's mass is estimated to be around 1.3 times that of Earth, and its surface temperature could be suitable for liquid water to exist.\\n\\nHowever, it's worth noting that Proxima b is a bit larger than Earth and has a more eccentric orbit, which could affect its climate and habitability. Additionally, the star Proxima Centauri is a red dwarf, which is a different type of star than the Sun, and it emits more ultraviolet and X-ray radiation, which could have an impact on the planet's atmosphere.\\n\\nOther notable Earth-like planets that are close to our solar system include:\\n\\n* TRAPPIST-1e, which orbits the ultracool dwarf star TRAPPIST-1 and is one of seven Earth-sized planets in the system.\\n* LHS 1140b, which orbits a small, cool star and is a super-Earth with a mass around 7 times that of Earth.\\n* Ross 128 b, which orbits a quiet red dwarf star and is a temperate exoplanet with a mass around 1.1 times that of Earth.\\n\\nThese planets are all located within a few dozen light-years of our solar system and are considered promising candidates for hosting life. However, more research is needed to determine their habitability and potential for supporting life.\""
      ]
     },
     "execution_count": 13,
     "metadata": {},
     "output_type": "execute_result"
    }
   ],
   "source": [
    "response.choices[0].message.content"
   ]
  },
  {
   "cell_type": "code",
   "execution_count": 14,
   "metadata": {},
   "outputs": [],
   "source": [
    "\n",
    "def get_chatbot_response(client,model_name,messages,temperature=0):\n",
    "    input_messages = []\n",
    "    for message in messages:\n",
    "        input_messages.append({\"role\": message[\"role\"], \"content\": message[\"content\"]})\n",
    "\n",
    "    response = client.chat.completions.create(\n",
    "        model=model_name,\n",
    "        messages=input_messages,\n",
    "        temperature=temperature,\n",
    "        top_p=0.8,\n",
    "        max_tokens=2000,\n",
    "    ).choices[0].message.content\n",
    "    \n",
    "    return response\n"
   ]
  },
  {
   "cell_type": "code",
   "execution_count": 15,
   "metadata": {},
   "outputs": [
    {
     "name": "stdout",
     "output_type": "stream",
     "text": [
      "The capital of Taiwan is Taipei.\n"
     ]
    }
   ],
   "source": [
    "messages = [{'role':'user','content':\"What's the capital of Taiwan?\"}]\n",
    "response = get_chatbot_response(client,model_name,messages)\n",
    "print(response)"
   ]
  },
  {
   "cell_type": "code",
   "execution_count": null,
   "metadata": {},
   "outputs": [],
   "source": []
  }
 ],
 "metadata": {
  "language_info": {
   "name": "python"
  }
 },
 "nbformat": 4,
 "nbformat_minor": 2
}
